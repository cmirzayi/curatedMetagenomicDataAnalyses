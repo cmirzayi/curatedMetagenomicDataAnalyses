{
 "cells": [
  {
   "cell_type": "markdown",
   "id": "bb522f4c-f341-4159-8177-ebf5124db0ad",
   "metadata": {},
   "source": [
    "# Installation\n",
    "\n",
    "The following notebook shows how to install the necessary dependencies to run the analysis [Sex-related differences in the human microbiome using curatedMetagenomicData 3 and the Python 3 language](curatedMetagenomicData%203%20Terminal%20interface,%20sex-contrast%20microbiome%20meta-analysis.ipynb). You must have R (>= 4.1) installed.\n",
    "\n",
    "## Install BiocManager and curatedMetagenomicDataTerminal"
   ]
  },
  {
   "cell_type": "code",
   "execution_count": null,
   "id": "608ef81b-5088-41dc-b1bf-43b6770e0a06",
   "metadata": {},
   "outputs": [],
   "source": [
    "%%bash\n",
    "\n",
    "Rscript -e \"utils::install.packages('BiocManager', repos = 'http://cran.us.r-project.org')\"\n",
    "Rscript -e \"BiocManager::install('waldronlab/curatedMetagenomicDataTerminal')\"\n",
    "Rscript -e \"curatedMetagenomicDataTerminal::install()\""
   ]
  },
  {
   "cell_type": "markdown",
   "id": "8c92ec33-7cd0-4cd4-8918-69ed8772ef66",
   "metadata": {},
   "source": [
    "If everything went fine, you now should be able to run `curatedMetagenomicData -h`:"
   ]
  },
  {
   "cell_type": "code",
   "execution_count": null,
   "id": "f931ebc0-92fd-421f-ad14-c0809b790089",
   "metadata": {},
   "outputs": [],
   "source": [
    "%%bash\n",
    "\n",
    "curatedMetagenomicData -h"
   ]
  },
  {
   "cell_type": "markdown",
   "id": "1973ab39-c3c5-4220-8a8b-6154c3635822",
   "metadata": {},
   "source": [
    "## Install Python Libraries"
   ]
  },
  {
   "cell_type": "code",
   "execution_count": null,
   "id": "cabf7483-c631-4770-a628-5487b864c6c5",
   "metadata": {},
   "outputs": [],
   "source": [
    "%%bash\n",
    "\n",
    "apt-get install python3-skbio python-skbio-doc\n",
    "\n",
    "python3 -m pip install pandas \\\n",
    "  setuptools \\\n",
    "  numpy \\\n",
    "  python-dateutil \\\n",
    "  pytz \\\n",
    "  statsmodels \\\n",
    "  matplotlib \\\n",
    "  seaborn \\\n",
    "  num2words"
   ]
  },
  {
   "cell_type": "markdown",
   "id": "ada63e0c-1d0f-4986-94dd-72f87956c903",
   "metadata": {},
   "source": [
    "## Clone the Repository\n",
    "\n",
    "If you haven't done it already, clone the curatedMetagenomicAnalyses repository. "
   ]
  },
  {
   "cell_type": "code",
   "execution_count": null,
   "id": "6646cb6a-ca35-4868-8ca8-37ef47f22a1e",
   "metadata": {},
   "outputs": [],
   "source": [
    "%%bash\n",
    "\n",
    "git clone git@github.com:waldronlab/curatedMetagenomicAnalyses.git"
   ]
  },
  {
   "cell_type": "markdown",
   "id": "5e2f3458-3aed-4bc7-9695-b63ad39589d8",
   "metadata": {},
   "source": [
    "Now you're ready to run [Sex-related differences in the human microbiome using curatedMetagenomicData 3 and the Python 3 language](curatedMetagenomicData%203%20Terminal%20interface,%20sex-contrast%20microbiome%20meta-analysis.ipynb)."
   ]
  }
 ],
 "metadata": {
  "kernelspec": {
   "display_name": "Python 3 (ipykernel)",
   "language": "python",
   "name": "python3"
  },
  "language_info": {
   "codemirror_mode": {
    "name": "ipython",
    "version": 3
   },
   "file_extension": ".py",
   "mimetype": "text/x-python",
   "name": "python",
   "nbconvert_exporter": "python",
   "pygments_lexer": "ipython3",
   "version": "3.8.5"
  }
 },
 "nbformat": 4,
 "nbformat_minor": 5
}
